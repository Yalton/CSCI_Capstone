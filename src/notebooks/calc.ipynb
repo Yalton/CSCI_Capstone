{
 "cells": [
  {
   "cell_type": "markdown",
   "metadata": {},
   "source": [
    "# Calc\n",
    "### Calculation backend for program\n",
    "### Calculated volume of .ply file passed in from GUI frontend\n",
    "---\n",
    "- Creation Date 9/7/22\n",
    "- Author: Dalton Bailey\n",
    "- Course: CSCI 490\n",
    "- Instructor Sam Siewert\n",
    "\n",
    "Notebook primarily useful to explain individual code blocks, code functions best when ran using _python3 quadp.py_ or using the script: _./quadp_ \n",
    "\n",
    "> **Planning Pothole potential using pointcloud from a ply file, powered by python, pacing on the pipad**"
   ]
  },
  {
   "cell_type": "markdown",
   "metadata": {},
   "source": [
    "## Required Imports \n",
    "\n",
    "### STD Python library imports\n",
    "- random\n",
    "- os\n",
    "- time\n",
    "- string\n",
    "\n",
    "### Math imports\n",
    "- numpy\n",
    "- from scipy.spatial; ConvexHull\n",
    "\n",
    "### Visualization Imports\n",
    "- matplotlib\n",
    "- mpl_toolkits.mplot3d \n",
    "- matplotlib.pyplot \n",
    "\n",
    "### Other imports\n",
    "- open3d \n",
    "- sqlite3\n",
    "- hashlib"
   ]
  },
  {
   "cell_type": "code",
   "execution_count": null,
   "metadata": {},
   "outputs": [],
   "source": [
    "# STD Python library imports\n",
    "import random\n",
    "import os\n",
    "from os.path import exists\n",
    "import time\n",
    "import string\n",
    "\n",
    "# Math imports\n",
    "import numpy as np\n",
    "from scipy.spatial import ConvexHull\n",
    "\n",
    "# Visualization Imports\n",
    "import matplotlib as plot\n",
    "from mpl_toolkits.mplot3d import Axes3D\n",
    "import matplotlib.pyplot as plt\n",
    "\n",
    "# Other imports\n",
    "import open3d as o3d\n",
    "import sqlite3\n",
    "import hashlib"
   ]
  },
  {
   "cell_type": "markdown",
   "metadata": {},
   "source": [
    "#### Calculation Class \n",
    "- Class wider member variables are also declared here"
   ]
  },
  {
   "cell_type": "code",
   "execution_count": null,
   "metadata": {},
   "outputs": [],
   "source": [
    "class pholeCalc():\n",
    "\n",
    "    # Class variables (Initialize all as none until they are required)\n",
    "    input_file = None\n",
    "    working_dir = None\n",
    "    debug = None\n",
    "    refx = None\n",
    "    refy = None\n",
    "    refz = None\n",
    "    ref_points = None\n",
    "    reference_plane = None\n",
    "    untrimmed_point_cloud = None\n",
    "    trimmed_point_cloud = None\n",
    "    volume = None\n",
    "    density = None\n",
    "    mass = None\n",
    "    units = None\n",
    "    unitType = None\n",
    "    salt = None\n",
    "    conn = None\n",
    "    c = None\n",
    "    gui_print = None"
   ]
  },
  {
   "cell_type": "markdown",
   "metadata": {},
   "source": [
    "#### Initialization function\n",
    "1. Sets all member variables to their initial values\n",
    "1. Creates database if it does not exist"
   ]
  },
  {
   "cell_type": "code",
   "execution_count": null,
   "metadata": {},
   "outputs": [],
   "source": [
    "    def __init__(self):\n",
    "\n",
    "        self.working_dir = os.path.dirname(os.path.realpath(__file__))\n",
    "        self.salt = ''.join(random.choice(string.ascii_letters)\n",
    "                            for i in range(10))\n",
    "        #sqldb = self.working_dir+\"/data/localstorage.db\"\n",
    "        sqldb = \"data/localstorage.db\"\n",
    "        try:\n",
    "            # self.conn = sqlite3.connect(self.working_dir+\"/data/localstorage.db\")\n",
    "            self.conn = sqlite3.connect(sqldb)\n",
    "        except:\n",
    "            raise Exception(\n",
    "                \"Database connection to \" + sqldb + \" failed; potentially corrupted/malformed, or permission error\")\n",
    "        self.c = self.conn.cursor()\n",
    "        # Create databse if it does not exist\n",
    "        try:\n",
    "            self.c.execute(\"\"\"CREATE TABLE IF NOT EXISTS phole_VMP_Data (\n",
    "            id INTEGER PRIMARY KEY AUTOINCREMENT,\n",
    "            hash_id TEXT,\n",
    "            username TEXT,\n",
    "            input_file TEXT,\n",
    "            date TEXT,\n",
    "            position REAL,\n",
    "            unit_type TEXT,\n",
    "            volume REAL,\n",
    "            density REAL,\n",
    "            mass REAL\n",
    "            )\"\"\")\n",
    "        except:\n",
    "            raise Exception(\n",
    "                \"Database creation has failed; potentially corrupted/malformed, or permission error\")"
   ]
  },
  {
   "cell_type": "markdown",
   "metadata": {},
   "source": [
    "#### Database closing wrapper\n",
    "Closes the opened sqlite database"
   ]
  },
  {
   "cell_type": "code",
   "execution_count": null,
   "metadata": {},
   "outputs": [],
   "source": [
    "    def closeDBconn(self):\n",
    "        self.debugout(13)\n",
    "        try:\n",
    "            self.conn.commit()\n",
    "            self.conn.close()\n",
    "        except:\n",
    "            raise Exception(\n",
    "                \"Database comitting & closing has failed; potentially corrupted/malformed, or permission error\")"
   ]
  },
  {
   "cell_type": "markdown",
   "metadata": {},
   "source": [
    "#### Hash generator function \n",
    "Generates a hash based on passed in string \n",
    "Used to create unique IDs for each calculation result, and unique names for each pothole scan "
   ]
  },
  {
   "cell_type": "code",
   "execution_count": null,
   "metadata": {},
   "outputs": [],
   "source": [
    "    def hash(self, hashingvalue):\n",
    "        hash = hashlib.sha256()\n",
    "        hash.update(hashingvalue.encode(\"utf-8\"))\n",
    "        return hash.hexdigest()"
   ]
  },
  {
   "cell_type": "markdown",
   "metadata": {},
   "source": [
    "#### api function\n",
    "Function called from gui to perform calculations on passed in ply file \n",
    "Performs all function calls in the proper order for calculation "
   ]
  },
  {
   "cell_type": "code",
   "execution_count": null,
   "metadata": {},
   "outputs": [],
   "source": [
    "    def api(self, debug, username, dens, unitType, infile, print_to_gui):\n",
    "\n",
    "        # Check if userdata file exists in current directory\n",
    "        self.debug = debug\n",
    "        self.gui_print = print_to_gui\n",
    "        # file_exists = exists(infile)\n",
    "        if (not exists(infile)):\n",
    "            self.gui_print(text=(\"\\n[QUAD_P]-[calc](exception)\" , infile + \" does not exist\"))\n",
    "            raise Exception(infile + \" does not exist\")\n",
    "        \n",
    "        # Populate member variables with data received from frontend\n",
    "        self.density = float(dens)\n",
    "        self.units = unitType\n",
    "        self.input_file = infile\n",
    "        unit_name = None\n",
    "\n",
    "        if self.units:\n",
    "            self.densityUnit = \"ft3\"\n",
    "            unit_name = \"imperial\"\n",
    "        else:\n",
    "            self.densityUnit = \"m3\"\n",
    "            unit_name = \"metric\"\n",
    "\n",
    "        # start timer\n",
    "        start_time = time.process_time()\n",
    "\n",
    "        # Dump debug information to user\n",
    "        self.debugout(1)\n",
    "        self.debugout(14)\n",
    "        self.debugout(4)\n",
    "        self.debugout(12)\n",
    "        self.debugout(15)\n",
    "        self.debugout(3)\n",
    "        \n",
    "        # Perform calculations\n",
    "        self.meshgen()\n",
    "        self.plotarray() if self.debug else None\n",
    "        self.refest()\n",
    "        self.refplot() if self.debug else None\n",
    "        self.trimcloud()\n",
    "        self.plottrim() if self.debug else None\n",
    "        self.volcalc()\n",
    "        self.masscalc()\n",
    "        self.debugout(2)\n",
    "\n",
    "        # Save calculated values to database\n",
    "        try:\n",
    "            self.c.execute(\"INSERT INTO phole_VMP_Data VALUES (NULL, '{hash}', '{username}', '{input_file}', DATE('now'), '{pos}', '{db_unit_name}', '{vol}', '{dens}', '{mass}')\".\n",
    "                           format(hash=self.hash((str(self.volume)+str(self.density)+str(self.mass)+(self.input_file) + str(self.salt))), username=str(username), db_unit_name=str(unit_name), input_file=str(self.input_file), vol=self.volume, dens=self.density, mass=self.mass, pos='pos_placeholder'))\n",
    "        except:\n",
    "            raise Exception(\n",
    "                \"Database writing has failed; potentially corrupted/malformed, or permission error\")\n",
    "\n",
    "        # Calculate total time elapsed during calculation\n",
    "        end_time = time.process_time()\n",
    "        print(f\"\\t[QUAD_P]-[calc] Calculation time: \", (end_time - start_time) * 1000, \"ms\")\n",
    "        self.gui_print(text=(\"\\n[QUAD_P]-[calc] Calculation time: \", (end_time - start_time) * 1000, \"ms\"))"
   ]
  },
  {
   "cell_type": "markdown",
   "metadata": {},
   "source": [
    "#### Mesh generation function \n",
    "Generates a 3D numpy array from the passed in ply file \n",
    "Translates the pointcloud data in the ply file into a 3D numpy array for calculation "
   ]
  },
  {
   "cell_type": "code",
   "execution_count": null,
   "metadata": {},
   "outputs": [],
   "source": [
    "    # Generate open3d mesh from pointcloud, and convert it to a 3D numpy array\n",
    "    # Code adapted from https://stackoverflow.com/questions/36920562/python-plyfile-vs-pymesh\n",
    "    def meshgen(self):\n",
    "        self.debugout(4)\n",
    "        pcd = o3d.io.read_point_cloud(\n",
    "            self.input_file)  # Read the point cloud\n",
    "        self.debugout(5)\n",
    "        self.meshvis(pcd) if self.debug else None\n",
    "\n",
    "        # Convert open3d format to numpy array\n",
    "        self.untrimmed_point_cloud = np.asarray(pcd.points)\n",
    "        self.debugout(6)\n",
    "        return"
   ]
  },
  {
   "cell_type": "markdown",
   "metadata": {},
   "source": [
    "#### Reference plane estimation function \n",
    "Uses the linear best square fit algorithm to establish a reference hyperplane \n",
    "Slope of reference hyperplane should be as close as possible to the slope of the road \n",
    "The more accurate the definition of the reference plane; the more accurate the final volume will be "
   ]
  },
  {
   "cell_type": "code",
   "execution_count": null,
   "metadata": {},
   "outputs": [],
   "source": [
    "    # Reference plane calculation using linear best fit algorithm\n",
    "    # Adapted from https://gist.github.com/RustingSword/e22a11e1d391f2ab1f2c\n",
    "    def refest(self):\n",
    "        self.debugout(7)\n",
    "\n",
    "        # Calculate reference hyperplane\n",
    "        try:\n",
    "            (rows, cols) = self.untrimmed_point_cloud.shape\n",
    "\n",
    "            if (cols != 3):\n",
    "                raise Exception(\"Inavlid col num; likely scanner error\")\n",
    "\n",
    "            # Compute a,b,c for function (ax + by + c = z) which defines plane that best fits the data\n",
    "            G = np.ones((rows, cols))\n",
    "            G[:, 0] = self.untrimmed_point_cloud[:, 0]  # X\n",
    "            G[:, 1] = self.untrimmed_point_cloud[:, 1]  # Y\n",
    "            Z = self.untrimmed_point_cloud[:, 2]        # Z\n",
    "            (a, b, c), resid, rank, s = np.linalg.lstsq(G, Z, rcond=None)\n",
    "\n",
    "            # Compute the normal vector for the best fitting plane\n",
    "            normal = (a, b, -1)\n",
    "            nn = np.linalg.norm(normal)\n",
    "            normal = normal / nn\n",
    "\n",
    "            # Compute distance (d) from origin to best fitting plane\n",
    "            point = np.array([0.0, 0.0, c])\n",
    "            d = -point.dot(normal)\n",
    "\n",
    "            # Get x & y max & mins\n",
    "            maxx = np.max(self.untrimmed_point_cloud[:, 0])\n",
    "            maxy = np.max(self.untrimmed_point_cloud[:, 1])\n",
    "            minx = np.min(self.untrimmed_point_cloud[:, 0])\n",
    "            miny = np.min(self.untrimmed_point_cloud[:, 1])\n",
    "\n",
    "            # Compute bounding x & y  points for ref plane\n",
    "            self.refx, self.refy = np.meshgrid([minx, maxx], [miny, maxy])\n",
    "            # Compute bounding z points for ref plane\n",
    "            self.refz = (-normal[0]*self.refx - normal[1]\n",
    "                         * self.refy - d)*1. / normal[2]\n",
    "\n",
    "            # Save bounding points of reference plane to 3D numpy array\n",
    "            self.ref_points = np.dstack(\n",
    "                (self.refx, self.refy, self.refz)).reshape((4, 3))\n",
    "\n",
    "            self.debugout(8)\n",
    "\n",
    "            self.datadump() if self.debug else None\n",
    "        except:\n",
    "            raise Exception(\"Reference plane estimation has failed; \" +\n",
    "                            self.input_file + \" may be corrupt or missing \")"
   ]
  },
  {
   "cell_type": "markdown",
   "metadata": {},
   "source": [
    "#### Trim cloud function \n",
    "Trims the 3D numpy array based on the previouslt established reference hyperplane \n",
    "The trimming process consists of removing all points above the reference hyperplane \n",
    "All points above the reference hyperplane should be the road, thus leaving us with a 3D array which only represents the pothole "
   ]
  },
  {
   "cell_type": "code",
   "execution_count": null,
   "metadata": {},
   "outputs": [],
   "source": [
    "    # All points above reference plane are to be removed\n",
    "    def trimcloud(self):\n",
    "        self.debugout(9)\n",
    "\n",
    "        # Compute normal vector for plane based on 4 edge points\n",
    "        plane_normal = np.cross(\n",
    "            self.ref_points[1] - self.ref_points[0], self.ref_points[2] - self.ref_points[0])\n",
    "        plane_normal = plane_normal / np.linalg.norm(plane_normal)\n",
    "\n",
    "        # Compute distance from plane_normal to origin of ref_points\n",
    "        plane_d = -np.dot(plane_normal, self.ref_points[0])\n",
    "\n",
    "        # Remove all points above plane using calculated normal\n",
    "        self.trimmed_point_cloud = self.untrimmed_point_cloud[np.dot(self.untrimmed_point_cloud, plane_normal) + plane_d <= 0]\n",
    "        # self.trimmed_point_cloud = self.untrimmed_point_cloud\n",
    "        self.debugout(10)"
   ]
  },
  {
   "cell_type": "markdown",
   "metadata": {},
   "source": [
    "## Calculates the volume of the trimmed 3D array \n",
    "Performs the convex hull method from scipy spatial to calculate the volume of the trimmed array "
   ]
  },
  {
   "cell_type": "code",
   "execution_count": null,
   "metadata": {},
   "outputs": [],
   "source": [
    "    # Volume calculation using convex hull method\n",
    "    def volcalc(self):\n",
    "        self.debugout(11)\n",
    "        hull = ConvexHull(self.trimmed_point_cloud)\n",
    "        \n",
    "        self.volume = hull.volume\n",
    "        if(self.units):\n",
    "            self.volume = self.volume / 0.028317\n",
    "        \n",
    "        print(f\"\\t[QUAD_P]-[calc] Volume calculation successful!\\n----------------------------------------\\n\\t[QUAD_P]-[calc] Volume is\", self.volume, \" \", self.densityUnit)\n",
    "        self.gui_print(text=(\"\\n[QUAD_P]-[calc] Volume calculation successful!\\n----------------------------------------\\n[QUAD_P]-[calc] Volume is \", self.volume, \" \", self.densityUnit))\n"
   ]
  },
  {
   "cell_type": "markdown",
   "metadata": {},
   "source": [
    "## Mass calculation function \n",
    "Calculates the mass of the required patching material based on the density of the patching material \n",
    "If no density is provided then the mass will simply be saved as -1\n",
    "\n",
    "#### Formula used\n",
    "mass = density * volume"
   ]
  },
  {
   "cell_type": "code",
   "execution_count": null,
   "metadata": {},
   "outputs": [],
   "source": [
    "   # Calculate mass of pothole\n",
    "    def masscalc(self):\n",
    "        if(self.density != -1):\n",
    "            self.mass = (self.density * self.volume)\n",
    "        else:\n",
    "            self.mass = -1\n",
    "        \n",
    "        massUnit = 0\n",
    "        if(self.units):\n",
    "            massUnit = \"lbs\"\n",
    "        else: \n",
    "            massUnit = \"kg\"\n",
    "        \n",
    "        if(self.density != -1):\n",
    "            print(f\"\\t[QUAD_P]-[calc] Using input density and calculated volume to determine mass\\n[QUAD_P]-[calc] Mass of patching material required is \",self.mass, \" \", massUnit) \n",
    "            self.gui_print(text=(\"\\n[QUAD_P]-[calc] Using input density and calculated volume to determine mass\\n[QUAD_P]-[calc] Mass of patching material required is \",self.mass, \" \", massUnit))"
   ]
  }
 ],
 "metadata": {
  "kernelspec": {
   "display_name": "Python 3",
   "language": "python",
   "name": "python3"
  },
  "language_info": {
   "name": "python",
   "version": "3.9.2 (default, Feb 28 2021, 17:03:44) \n[GCC 10.2.1 20210110]"
  },
  "orig_nbformat": 4,
  "vscode": {
   "interpreter": {
    "hash": "916dbcbb3f70747c44a77c7bcd40155683ae19c65e1c03b4aa3499c5328201f1"
   }
  }
 },
 "nbformat": 4,
 "nbformat_minor": 2
}
